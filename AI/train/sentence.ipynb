{
 "cells": [
  {
   "cell_type": "code",
   "execution_count": 1,
   "id": "a8abd9d5",
   "metadata": {},
   "outputs": [
    {
     "ename": "ModuleNotFoundError",
     "evalue": "No module named 'sentence_transformers'",
     "output_type": "error",
     "traceback": [
      "\u001b[1;31m---------------------------------------------------------------------------\u001b[0m",
      "\u001b[1;31mModuleNotFoundError\u001b[0m                       Traceback (most recent call last)",
      "Cell \u001b[1;32mIn[1], line 1\u001b[0m\n\u001b[1;32m----> 1\u001b[0m \u001b[38;5;28;01mfrom\u001b[39;00m \u001b[38;5;21;01msentence_transformers\u001b[39;00m \u001b[38;5;28;01mimport\u001b[39;00m SentenceTransformer\n\u001b[0;32m      2\u001b[0m \u001b[38;5;28;01mfrom\u001b[39;00m \u001b[38;5;21;01msklearn\u001b[39;00m\u001b[38;5;21;01m.\u001b[39;00m\u001b[38;5;21;01mmetrics\u001b[39;00m\u001b[38;5;21;01m.\u001b[39;00m\u001b[38;5;21;01mpairwise\u001b[39;00m \u001b[38;5;28;01mimport\u001b[39;00m cosine_similarity\n\u001b[0;32m      4\u001b[0m \u001b[38;5;66;03m# Model dùng cho việc chuyển câu thành embedding\u001b[39;00m\n",
      "\u001b[1;31mModuleNotFoundError\u001b[0m: No module named 'sentence_transformers'"
     ]
    }
   ],
   "source": [
    "from sentence_transformers import SentenceTransformer\n",
    "from sklearn.metrics.pairwise import cosine_similarity\n",
    "\n",
    "# Model dùng cho việc chuyển câu thành embedding\n",
    "model = SentenceTransformer('paraphrase-multilingual-MiniLM-L12-v2')\n",
    "\n",
    "# Dữ liệu người dùng nhập bằng tiếng Việt\n",
    "user_input_vi = \"Tôi cảm thấy khó thở và mệt mỏi\"\n",
    "\n",
    "# Dịch người dùng nhập từ tiếng Việt sang tiếng Anh (giả sử dịch chính xác)\n",
    "# Bạn có thể thay thế bằng thư viện dịch hoặc bảng từ điển dịch\n",
    "user_input_en = \"I feel shortness of breath and fatigue\"\n",
    "\n",
    "# Chuyển câu tiếng Anh người dùng và triệu chứng mô hình thành embedding\n",
    "user_input_embedding = model.encode([user_input_en])\n",
    "model_symptoms_embeddings = model.encode(symptoms)\n",
    "\n",
    "# Tính độ tương đồng cosine giữa vector của người dùng và từng triệu chứng\n",
    "similarities = cosine_similarity(user_input_embedding, model_symptoms_embeddings)\n",
    "\n",
    "# Lấy triệu chứng có độ tương đồng cao nhất\n",
    "best_match_index = similarities.argmax()\n",
    "best_match = symptoms[best_match_index]\n",
    "similarity_score = similarities[0][best_match_index]\n",
    "\n",
    "print(f\"Triệu chứng khớp với mô hình: {best_match} (Độ tương đồng: {similarity_score * 100:.2f}%)\")\n"
   ]
  }
 ],
 "metadata": {
  "kernelspec": {
   "display_name": "Python 3",
   "language": "python",
   "name": "python3"
  },
  "language_info": {
   "codemirror_mode": {
    "name": "ipython",
    "version": 3
   },
   "file_extension": ".py",
   "mimetype": "text/x-python",
   "name": "python",
   "nbconvert_exporter": "python",
   "pygments_lexer": "ipython3",
   "version": "3.11.4"
  }
 },
 "nbformat": 4,
 "nbformat_minor": 5
}
